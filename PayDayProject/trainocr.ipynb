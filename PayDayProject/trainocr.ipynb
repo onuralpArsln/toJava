{
  "cells": [
    {
      "cell_type": "markdown",
      "metadata": {
        "id": "3laOGKltDfY8"
      },
      "source": [
        "Train ocr with keras"
      ]
    },
    {
      "cell_type": "markdown",
      "source": [
        "dataseti githubdan çek ve unziple"
      ],
      "metadata": {
        "id": "uvJwJ8AvDuVn"
      }
    },
    {
      "cell_type": "code",
      "execution_count": 1,
      "metadata": {
        "vscode": {
          "languageId": "plaintext"
        },
        "id": "1-V7jS8SDfY9"
      },
      "outputs": [],
      "source": [
        "!wget -q https://github.com/onuralpArsln/toJava/raw/refs/heads/main/PayDayProject/dataset.zip"
      ]
    },
    {
      "cell_type": "code",
      "source": [
        "!unzip -q dataset.zip"
      ],
      "metadata": {
        "id": "HvZfumkwDrWH"
      },
      "execution_count": null,
      "outputs": []
    }
  ],
  "metadata": {
    "language_info": {
      "name": "python"
    },
    "colab": {
      "provenance": []
    },
    "kernelspec": {
      "name": "python3",
      "display_name": "Python 3"
    }
  },
  "nbformat": 4,
  "nbformat_minor": 0
}